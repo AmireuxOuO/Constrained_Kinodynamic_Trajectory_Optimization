{
 "cells": [
  {
   "cell_type": "code",
   "execution_count": 2,
   "metadata": {},
   "outputs": [],
   "source": [
    "import time\n",
    "import casadi\n",
    "import numpy as np\n",
    "from utils.RobotConfig import RobotConfig\n",
    "from utils.Lagrange import *\n",
    "from utils.LGL_collocation import LGL_collocation\n",
    "from utils.LocalChart import *\n",
    "import pinocchio as pin\n",
    "from pinocchio import casadi as cpin\n",
    "import matplotlib.pyplot as plt\n",
    "import scipy"
   ]
  },
  {
   "cell_type": "code",
   "execution_count": 3,
   "metadata": {},
   "outputs": [],
   "source": [
    "Ntp = 10     # Number of collocation points / basis (degree: Ntp-1)"
   ]
  },
  {
   "cell_type": "markdown",
   "metadata": {},
   "source": [
    "### Robot Model"
   ]
  },
  {
   "cell_type": "code",
   "execution_count": 4,
   "metadata": {},
   "outputs": [
    {
     "name": "stdout",
     "output_type": "stream",
     "text": [
      "[  0.         -36.08572402  -9.26563407   0.97299901  -0.09997149\n",
      "   0.        ]\n",
      "[ 8.88178420e-16 -2.17616448e+01  5.05844512e+00  1.31084531e+00\n",
      " -1.18267539e-01  0.00000000e+00]\n"
     ]
    }
   ],
   "source": [
    "config_file = 'config/SimpleConfig.yaml'\n",
    "q_waypoints = np.array([[0, np.pi/4, 0, 0, 0, 0], \n",
    "                    [-np.pi/6, np.pi/12, np.pi/6, -np.pi/6, -np.pi/3, -np.pi/3],\n",
    "                    [-np.pi/4, np.pi/4, np.pi/3, 0, -np.pi/6, -np.pi/2]])\n",
    "\n",
    "Robot = RobotConfig(config_file)\n",
    "Robot.lowerVelocityLimit = np.pi/2 * np.array([-1, -1, -1, -1, -1, -1])  # rad/s\n",
    "Robot.upperVelocityLimit = np.pi/2 * np.array([1, 1, 1, 1, 1, 1])\n",
    "Robot.lowerTorqueLimit = 100 * np.array([-1, -1, -1, -1, -1, -1]) \n",
    "Robot.upperTorqueLimit = 100 * np.array([1, 1, 1, 1, 1, 1])\n",
    "\n",
    "\n",
    "ngc = Robot.model.nq   # Number of joints\n",
    "ngc = Robot.model.nv   # Number of DOF\n",
    "nx = 2*ngc    # Number of states\n",
    "cx = casadi.SX.sym(\"x\", nx, 1)\n",
    "ctau = casadi.SX.sym(\"tau\", ngc, 1)\n",
    "cacc = cpin.aba(Robot.cmodel, Robot.cdata, cx[:ngc], cx[ngc:], ctau) # Forward dynamics\n",
    "\n",
    "\n",
    "q0 = q_waypoints[0]\n",
    "qT = q_waypoints[-1]\n",
    "tau0 = pin.rnea(Robot.model, Robot.data, q0, np.zeros(ngc), np.zeros(ngc))\n",
    "tauT = pin.rnea(Robot.model, Robot.data, qT, np.zeros(ngc), np.zeros(ngc))\n",
    "print(tau0)\n",
    "print(tauT)"
   ]
  },
  {
   "cell_type": "markdown",
   "metadata": {},
   "source": [
    "### Gauss–Legendre Collocation"
   ]
  },
  {
   "cell_type": "code",
   "execution_count": 5,
   "metadata": {},
   "outputs": [],
   "source": [
    "Np = q_waypoints.shape[0]-1  # Number of phase (dersired waypoints: N+1)\n",
    "T = Np*Ntp  # Number of total collocation points / optimization variables\n",
    "\n",
    "LGL_Pts, LGL_Wts = Normalize_LGL_Pts_Wts(Ntp)\n",
    "DL,_ = differentiation_matrix(Ntp, LGL_Pts)\n",
    "\n",
    "LGL = LGL_collocation(Ntp, ngc, ngc)\n",
    "StatesDiff, StateDiff, LocalsDiff, LocalDiff= LGL.getDiffFuncs()\n",
    "\n",
    "Feq = casadi.Function(\n",
    "    \"Dyn\",\n",
    "    [cx, ctau],\n",
    "    [casadi.vertcat(cx[ngc:], cacc)],\n",
    ")"
   ]
  },
  {
   "cell_type": "markdown",
   "metadata": {},
   "source": [
    "### Nonlinear Programming Problem (NLP)"
   ]
  },
  {
   "cell_type": "code",
   "execution_count": 6,
   "metadata": {},
   "outputs": [],
   "source": [
    "opti = casadi.Opti()\n",
    "# Optimization variables\n",
    "var_xs = [opti.variable(nx) for _ in range(T)]\n",
    "var_us = [opti.variable(ngc) for _ in range(T)]\n",
    "var_deltaT = [opti.variable(1) for _ in range(Np)]"
   ]
  },
  {
   "cell_type": "code",
   "execution_count": 7,
   "metadata": {},
   "outputs": [],
   "source": [
    "# Constraints\n",
    "for i in range(Np):\n",
    "    opti.subject_to(var_deltaT[i] >= 0.0)\n",
    "\n",
    "    for tp in range(Ntp):\n",
    "        t = i*Ntp + tp\n",
    "        # dynamics\n",
    "        opti.subject_to(StatesDiff(casadi.vertcat(*var_xs[i*Ntp: (i+1)*Ntp]), var_deltaT[i], DL[tp,:]) \n",
    "                        == Feq(var_xs[t], var_us[t]))\n",
    "        \n",
    "        # joint constraints\n",
    "        opti.subject_to(var_xs[t][:ngc] <= Robot.upperPositionLimit)\n",
    "        opti.subject_to(var_xs[t][:ngc] >= Robot.lowerPositionLimit)\n",
    "        # joint velocity constraints\n",
    "        opti.subject_to(var_xs[t][ngc:] <= Robot.upperVelocityLimit)\n",
    "        opti.subject_to(var_xs[t][ngc:] >= Robot.lowerVelocityLimit)\n",
    "        # torque constraints\n",
    "        opti.subject_to(var_us[t] <= Robot.upperTorqueLimit)\n",
    "        opti.subject_to(var_us[t] >= Robot.lowerTorqueLimit)\n",
    "\n",
    "# waypoints constraints (N-1 middle waypoints)\n",
    "for i in range(1, Np):\n",
    "    opti.subject_to(var_xs[i*Ntp][:ngc] == q_waypoints[i])\n",
    "\n",
    "# continuity\n",
    "for i in range(1, Np):\n",
    "    opti.subject_to(var_xs[i*Ntp-1] == var_xs[i*Ntp])\n",
    "    opti.subject_to(var_us[i*Ntp-1] == var_us[i*Ntp])\n",
    "\n",
    "# continuity of derivatives\n",
    "for i in range(Np-1):\n",
    "    opti.subject_to(StatesDiff(casadi.vertcat(*var_xs[i*Ntp: (i+1)*Ntp]), var_deltaT[i], DL[Ntp-1,:]) \n",
    "                    == StatesDiff(casadi.vertcat(*var_xs[(i+1)*Ntp: (i+2)*Ntp]), var_deltaT[i+1], DL[0,:]))\n",
    "\n",
    "    opti.subject_to(LocalDiff(casadi.vertcat(*var_us[i*Ntp: (i+1)*Ntp]), var_deltaT[i], DL[Ntp-1,:])\n",
    "                   == LocalDiff(casadi.vertcat(*var_us[(i+1)*Ntp: (i+2)*Ntp]), var_deltaT[i], DL[0,:]))\n",
    "\n",
    "# boundary conditions\n",
    "opti.subject_to(var_xs[0][:ngc] == q0)\n",
    "opti.subject_to(var_xs[-1][:ngc] == qT)\n",
    "opti.subject_to(var_xs[0][ngc:] == 0)\n",
    "opti.subject_to(var_xs[-1][ngc:] == 0)\n",
    "#opti.subject_to(var_us[0] == tau0)\n",
    "#opti.subject_to(var_us[-1] == tauT)\n",
    "\n",
    "# Objective\n",
    "totalcost = 0\n",
    "\n",
    "R = np.eye(ngc)\n",
    "for i in range(Np):\n",
    "    for tp in range(Ntp):\n",
    "        var_xs_Phase = var_xs[i*Ntp: (i+1)*Ntp]\n",
    "        dq = [dq_Phase[ngc:] for dq_Phase in var_xs_Phase]\n",
    "        ddq = StateDiff(casadi.vertcat(*dq), var_deltaT[i], DL[tp,:])\n",
    "        totalcost += var_deltaT[i]/2 * LGL_Wts[tp] * casadi.mtimes([ddq.T, R, ddq])\n",
    "        \n",
    "    totalcost += var_deltaT[i]\n",
    "\n",
    "opti.minimize(totalcost)\n",
    "opti.solver(\"ipopt\") \n",
    "\n",
    "for x in var_xs:\n",
    "    opti.set_initial(x, np.concatenate([q0, np.zeros(ngc)]))\n",
    "for u in var_us:\n",
    "    opti.set_initial(u, tau0)\n",
    "for t in var_deltaT:\n",
    "    opti.set_initial(t, 2)\n"
   ]
  },
  {
   "cell_type": "code",
   "execution_count": 8,
   "metadata": {},
   "outputs": [
    {
     "name": "stdout",
     "output_type": "stream",
     "text": [
      "\n",
      "******************************************************************************\n",
      "This program contains Ipopt, a library for large-scale nonlinear optimization.\n",
      " Ipopt is released as open source code under the Eclipse Public License (EPL).\n",
      "         For more information visit https://github.com/coin-or/Ipopt\n",
      "******************************************************************************\n",
      "\n",
      "This is Ipopt version 3.14.16, running with linear solver MUMPS 5.7.2.\n",
      "\n",
      "Number of nonzeros in equality constraint Jacobian...:     5256\n",
      "Number of nonzeros in inequality constraint Jacobian.:      722\n",
      "Number of nonzeros in Lagrangian Hessian.............:     5882\n",
      "\n",
      "Total number of variables............................:      362\n",
      "                     variables with only lower bounds:        0\n",
      "                variables with lower and upper bounds:        0\n",
      "                     variables with only upper bounds:        0\n",
      "Total number of equality constraints.................:      306\n",
      "Total number of inequality constraints...............:      722\n",
      "        inequality constraints with only lower bounds:      362\n",
      "   inequality constraints with lower and upper bounds:        0\n",
      "        inequality constraints with only upper bounds:      360\n",
      "\n",
      "iter    objective    inf_pr   inf_du lg(mu)  ||d||  lg(rg) alpha_du alpha_pr  ls\n",
      "   0  4.0000000e+00 1.57e+00 1.00e+00  -1.0 0.00e+00    -  0.00e+00 0.00e+00   0\n",
      "   1  3.6888650e+00 3.31e+00 4.31e+00  -1.0 9.98e+00    -  7.05e-01 2.50e-01h  3\n",
      "   2  3.8558862e+00 3.23e+00 4.17e+00  -1.0 8.96e+00    -  4.24e-01 3.12e-02h  6\n",
      "   3  8.2546768e+00 1.06e+00 2.36e+00  -1.0 9.23e+00    -  6.51e-01 1.00e+00H  1\n",
      "   4  7.3532249e+00 6.65e-01 1.44e+00  -1.0 9.20e+00    -  9.59e-01 1.00e+00H  1\n",
      "   5  7.1647427e+00 3.44e-01 3.93e+00  -1.0 2.35e+00    -  1.00e+00 1.00e+00h  1\n",
      "   6  7.1820821e+00 1.96e-02 5.90e-01  -1.0 3.83e-01    -  1.00e+00 1.00e+00h  1\n",
      "   7  7.1674602e+00 2.06e-02 1.41e-01  -1.7 3.66e-01    -  1.00e+00 1.00e+00h  1\n",
      "   8  7.1686624e+00 9.14e-04 4.58e-03  -2.5 6.00e-02    -  1.00e+00 1.00e+00h  1\n",
      "   9  7.1687588e+00 2.19e-05 1.21e-04  -3.8 1.04e-02    -  1.00e+00 1.00e+00h  1\n",
      "iter    objective    inf_pr   inf_du lg(mu)  ||d||  lg(rg) alpha_du alpha_pr  ls\n",
      "  10  7.1687615e+00 6.55e-08 3.71e-07  -5.7 5.85e-04    -  1.00e+00 1.00e+00h  1\n",
      "  11  7.1687615e+00 1.01e-11 5.41e-11  -8.6 7.34e-06    -  1.00e+00 1.00e+00h  1\n",
      "\n",
      "Number of Iterations....: 11\n",
      "\n",
      "                                   (scaled)                 (unscaled)\n",
      "Objective...............:   7.1687615049142011e+00    7.1687615049142011e+00\n",
      "Dual infeasibility......:   5.4136282684360686e-11    5.4136282684360686e-11\n",
      "Constraint violation....:   1.0149131535186484e-11    1.0149131535186484e-11\n",
      "Variable bound violation:   0.0000000000000000e+00    0.0000000000000000e+00\n",
      "Complementarity.........:   2.5070524123677624e-09    2.5070524123677624e-09\n",
      "Overall NLP error.......:   2.5070524123677624e-09    2.5070524123677624e-09\n",
      "\n",
      "\n",
      "Number of objective function evaluations             = 30\n",
      "Number of objective gradient evaluations             = 12\n",
      "Number of equality constraint evaluations            = 30\n",
      "Number of inequality constraint evaluations          = 30\n",
      "Number of equality constraint Jacobian evaluations   = 12\n",
      "Number of inequality constraint Jacobian evaluations = 12\n",
      "Number of Lagrangian Hessian evaluations             = 11\n",
      "Total seconds in IPOPT                               = 1.035\n",
      "\n",
      "EXIT: Optimal Solution Found.\n",
      "      solver  :   t_proc      (avg)   t_wall      (avg)    n_eval\n",
      "       nlp_f  |  21.98ms (732.77us)   2.01ms ( 67.10us)        30\n",
      "       nlp_g  | 163.77ms (  5.46ms)  15.35ms (511.62us)        30\n",
      "  nlp_grad_f  |   2.54ms (195.54us)   2.04ms (156.74us)        13\n",
      "  nlp_hess_l  |   5.95 s (540.87ms) 521.02ms ( 47.37ms)        11\n",
      "   nlp_jac_g  |   2.03 s (156.00ms) 202.51ms ( 15.58ms)        13\n",
      "       total  |  11.40 s ( 11.40 s)   1.04 s (  1.04 s)         1\n"
     ]
    }
   ],
   "source": [
    "try:\n",
    "    sol = opti.solve_limited()\n",
    "    sol_xs = [opti.value(var_x) for var_x in var_xs]\n",
    "    sol_us = [opti.value(var_u) for var_u in var_us]\n",
    "    sol_T = [opti.value(var_t) for var_t in var_deltaT]\n",
    "except:\n",
    "    print(\"ERROR in convergence, plotting debug info.\")\n",
    "    sol_xs = [opti.debug.value(var_x) for var_x in var_xs]\n",
    "    sol_us = [opti.debug.value(var_u) for var_u in var_us]"
   ]
  },
  {
   "cell_type": "code",
   "execution_count": 9,
   "metadata": {},
   "outputs": [
    {
     "name": "stdout",
     "output_type": "stream",
     "text": [
      "[2.992504473066526, 2.382264572973701]\n",
      "Total time: 5.374769046040226\n"
     ]
    }
   ],
   "source": [
    "print(sol_T)\n",
    "print(f\"Total time: {sum(sol_T)}\")\n",
    "\n",
    "T_List = [0] + [sum(sol_T[:i+1]) for i in range(Np)]"
   ]
  },
  {
   "cell_type": "code",
   "execution_count": 10,
   "metadata": {},
   "outputs": [
    {
     "name": "stdout",
     "output_type": "stream",
     "text": [
      "Collision Distance 0: 0.006613313039108972, \n",
      " State:False\n",
      "Collision Distance 1: 0.006350328220162555, \n",
      " State:False\n",
      "Collision Distance 2: 0.0027771874514950588, \n",
      " State:False\n",
      "Collision Distance 3: -0.004589730872164421, \n",
      " State:True\n",
      "Collision Distance 4: -0.005532600347718439, \n",
      " State:True\n",
      "Collision Distance 5: 0.0027598988454181402, \n",
      " State:False\n",
      "Collision Distance 6: 0.0011488522970671908, \n",
      " State:False\n",
      "Collision Distance 7: 0.008975423916876252, \n",
      " State:False\n",
      "Collision Distance 8: 0.015766852069752604, \n",
      " State:False\n",
      "Collision Distance 9: 0.018832358213584113, \n",
      " State:False\n",
      "Collision Distance 10: 0.018832358213584102, \n",
      " State:False\n",
      "Collision Distance 11: 0.021402313117629277, \n",
      " State:False\n",
      "Collision Distance 12: 0.008151352785358796, \n",
      " State:False\n",
      "Collision Distance 13: -0.005638274671965326, \n",
      " State:True\n",
      "Collision Distance 14: -0.005250889548666288, \n",
      " State:True\n",
      "Collision Distance 15: 0.004659268261138069, \n",
      " State:False\n",
      "Collision Distance 16: 0.022329796349211208, \n",
      " State:False\n",
      "Collision Distance 17: 0.03939111249509449, \n",
      " State:False\n",
      "Collision Distance 18: 0.04627015152785396, \n",
      " State:False\n",
      "Collision Distance 19: 0.04706878053546773, \n",
      " State:False\n"
     ]
    }
   ],
   "source": [
    "### Check collision\n",
    "from utils.ObstacleSpheres import ObsConfig\n",
    "\n",
    "obs = ObsConfig(config_file)\n",
    "obs.spheres_from_robot(q0 = q_waypoints[0].astype(float).tolist())  # Get initial robot obstacle spheres\n",
    "obs.spheres_from_env()\n",
    "\n",
    "cq = casadi.SX.sym('q', ngc)\n",
    "get_obstacle_distances = casadi.Function(\n",
    "    'get_obstacle_distances', \n",
    "    [cq], \n",
    "    [casadi.vertcat(*Robot.obstacle_distances(cq, obs.env_spheres, obs.robot_spheres))]\n",
    "    )\n",
    "\n",
    "for t in range(T):\n",
    "    dis = np.min(np.array(get_obstacle_distances(sol_xs[t][:ngc])))\n",
    "    print(f\"Collision Distance {t}: {dis}, \\n State:{Robot.collision_status(sol_xs[t][:ngc], obs.env_spheres, obs.robot_spheres)}\")\n"
   ]
  },
  {
   "cell_type": "markdown",
   "metadata": {},
   "source": [
    "### Inverse dynamics\n"
   ]
  },
  {
   "cell_type": "code",
   "execution_count": 11,
   "metadata": {},
   "outputs": [
    {
     "data": {
      "image/png": "[encoded data removed]",
      "text/plain": [
       "<Figure size 640x480 with 6 Axes>"
      ]
     },
     "metadata": {},
     "output_type": "display_data"
    }
   ],
   "source": [
    "nsample = 100\n",
    "fig1, axs1 = plt.subplots(ngc,1)\n",
    "\n",
    "t = casadi.SX.sym(\"t\")\n",
    "for i in range(Np):\n",
    "    sample_t = np.linspace(T_List[i], T_List[i+1], nsample)\n",
    "    collo_pts = sol_T[i]/2 * (LGL_Pts+1) + T_List[i]\n",
    "\n",
    "    inter_xs = casadi.Function(\n",
    "        \"xt\", \n",
    "        [t], [LagrangeInterpolation(t, collo_pts, sol_xs[i*Ntp: (i+1)*Ntp])]\n",
    "    )\n",
    "    inter_us = casadi.Function(\n",
    "        \"ut\", \n",
    "        [t], [LagrangeInterpolation(t, collo_pts, sol_us[i*Ntp: (i+1)*Ntp])]\n",
    "    )\n",
    "    inter_dxs = casadi.Function(\n",
    "        \"dxt\", \n",
    "        [t], [DiffLangrangeInterpolation(t, collo_pts, sol_xs[i*Ntp: (i+1)*Ntp])]\n",
    "    )\n",
    "\n",
    "\n",
    "    sample_q = np.array([inter_xs(ti)[:ngc] for ti in sample_t])\n",
    "    sample_dq = np.array([inter_xs(ti)[ngc:] for ti in sample_t])\n",
    "    sample_ddq = np.array([inter_dxs(ti)[ngc:] for ti in sample_t])\n",
    "\n",
    "    # from interpolation\n",
    "    sample_u = np.array([inter_us(ti) for ti in sample_t])\n",
    "    \n",
    "    # from dynamics equations\n",
    "    tau_id = np.array([pin.rnea(Robot.model, Robot.data, q, dq, ddq) for q, dq, ddq in zip(sample_q, sample_dq, sample_ddq)])\n",
    "    \n",
    "    # plot sample_u and tau\n",
    "    for j in range(ngc): \n",
    "        axs1[j].plot(sample_t, sample_u[:,j], label=f'u{j}',color='blue')\n",
    "        axs1[j].plot(sample_t, tau_id[:,j], label=f'tau{j}',color='orange',linestyle='dashed')\n",
    "plt.show()"
   ]
  }
 ],
 "metadata": {
  "kernelspec": {
   "display_name": "jnrh-2023",
   "language": "python",
   "name": "python3"
  },
  "language_info": {
   "codemirror_mode": {
    "name": "ipython",
    "version": 3
   },
   "file_extension": ".py",
   "mimetype": "text/x-python",
   "name": "python",
   "nbconvert_exporter": "python",
   "pygments_lexer": "ipython3",
   "version": "3.9.19"
  }
 },
 "nbformat": 4,
 "nbformat_minor": 2
}
