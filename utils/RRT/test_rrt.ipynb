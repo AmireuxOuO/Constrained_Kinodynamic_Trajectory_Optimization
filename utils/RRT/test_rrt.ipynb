{
 "cells": [
  {
   "cell_type": "code",
   "execution_count": null,
   "metadata": {},
   "outputs": [],
   "source": [
    "from RRT.RRT import rrt, rrtConnect\n",
    "from ObstacleSpheres import ObsConfig\n",
    "from RobotConfig import RobotConfig\n",
    "import numpy as np"
   ]
  },
  {
   "cell_type": "code",
   "execution_count": null,
   "metadata": {},
   "outputs": [],
   "source": [
    "config_file = '../config/SimpleConfig.yaml'\n",
    "q_waypoints = np.array([[0, np.pi/4, 0, 0, 0, 0], \n",
    "                    [-np.pi/6, np.pi/12, np.pi/6, -np.pi/6, -np.pi/3, -np.pi/3],\n",
    "                    [-np.pi/4, np.pi/4, np.pi/3, 0, -np.pi/6, -np.pi/2]])\n",
    "\n",
    "obs = ObsConfig(config_file)\n",
    "obs.spheres_from_robot(q0 = q_waypoints[0].astype(float).tolist())  # Get initial robot obstacle spheres\n",
    "obs.spheres_from_env()\n",
    "\n",
    "Robot = RobotConfig(config_file)\n",
    "Robot.homePosition = q_waypoints[0]\n",
    "\n",
    "rrt = rrt(Robot, obs.robot_spheres, obs.env_spheres)\n",
    "plan = rrt.plan(q_waypoints[0], q_waypoints[1])\n",
    "print(plan)\n",
    "\n",
    "if plan is not None:\n",
    "    for i in range(len(plan)):\n",
    "        print(Robot.collision_status(plan[i], obs.env_spheres, obs.robot_spheres))  # False if not collision"
   ]
  },
  {
   "cell_type": "code",
   "execution_count": null,
   "metadata": {},
   "outputs": [],
   "source": [
    "config_file = '../config/SimpleConfig.yaml'\n",
    "q_waypoints = np.array([[0, np.pi/4, 0, 0, 0, 0], \n",
    "                    [-np.pi/6, np.pi/12, np.pi/6, -np.pi/6, -np.pi/3, -np.pi/3],\n",
    "                    [-np.pi/4, np.pi/4, np.pi/3, 0, -np.pi/6, -np.pi/2]])\n",
    "obs = ObsConfig(config_file)\n",
    "obs.spheres_from_robot(q0 = q_waypoints[0].astype(float).tolist())  # Get initial robot obstacle spheres\n",
    "obs.spheres_from_env()\n",
    "\n",
    "Robot = RobotConfig(config_file)\n",
    "Robot.homePosition = q_waypoints[0]\n",
    "\n",
    "rrt = rrtConnect(Robot, obs.robot_spheres, obs.env_spheres)\n",
    "plan = rrt.connect_plan(q_waypoints[0], q_waypoints[1])\n",
    "print(plan)"
   ]
  }
 ],
 "metadata": {
  "kernelspec": {
   "display_name": "cpin",
   "language": "python",
   "name": "python3"
  },
  "language_info": {
   "codemirror_mode": {
    "name": "ipython",
    "version": 3
   },
   "file_extension": ".py",
   "mimetype": "text/x-python",
   "name": "python",
   "nbconvert_exporter": "python",
   "pygments_lexer": "ipython3",
   "version": "3.9.19"
  }
 },
 "nbformat": 4,
 "nbformat_minor": 2
}
