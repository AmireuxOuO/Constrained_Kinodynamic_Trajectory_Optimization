{
 "cells": [
  {
   "cell_type": "code",
   "execution_count": null,
   "metadata": {},
   "outputs": [],
   "source": [
    "from utils.PinConfig import PinConfig\n",
    "import casadi\n",
    "import pinocchio as pin\n",
    "\n",
    "config_file = 'config/SimpleConfig.yaml'\n",
    "robot, model, data, cmodel, cdata = PinConfig(config_file)\n",
    "print(model)\n",
    "\n",
    "cq = casadi.SX.sym('q', model.nq)"
   ]
  },
  {
   "cell_type": "code",
   "execution_count": 1,
   "metadata": {},
   "outputs": [
    {
     "name": "stdout",
     "output_type": "stream",
     "text": [
      "{'pinocchio_config': {'urdf_path': '/home/angie/Project/curobo/src/curobo/content/assets/robot/ur_description/ur5e.urdf', 'robex': None}, 'curobo_config': {'robot_cfg': {'kinematics': {'usd_path': 'robot/ur_description/ur5e.usd', 'usd_robot_root': '/robot', 'isaac_usd_path': '', 'usd_flip_joints': {}, 'usd_flip_joint_limits': [], 'urdf_path': 'robot/ur_description/ur5e.urdf', 'asset_root_path': 'robot/ur_description', 'base_link': 'base_link', 'ee_link': 'tool0', 'link_names': ['shoulder_link', 'upper_arm_link', 'forearm_link', 'wrist_1_link', 'wrist_2_link', 'wrist_3_link'], 'lock_joints': None, 'extra_links': None, 'collision_link_names': None, 'collision_spheres': None, 'collision_sphere_buffer': 0.005, 'extra_collision_spheres': {}, 'self_collision_ignore': None, 'self_collision_buffer': None, 'use_global_cumul': True, 'mesh_link_names': ['shoulder_link', 'upper_arm_link', 'forearm_link', 'wrist_1_link', 'wrist_2_link', 'wrist_3_link'], 'cspace': {'joint_names': ['shoulder_pan_joint', 'shoulder_lift_joint', 'elbow_joint', 'wrist_1_joint', 'wrist_2_joint', 'wrist_3_joint'], 'retract_config': [-1.57, -2.2, 1.9, -1.383, -1.57, 0.0], 'null_space_weight': [1.0, 1.0, 1.0, 1.0, 1.0, 1.0], 'cspace_distance_weight': [1.0, 1.0, 1.0, 1.0, 1.0, 1.0], 'max_jerk': 500.0, 'max_acceleration': 15.0}}}}}\n",
      "[0.04060134 0.01      ]\n",
      "[0.01 0.01]\n",
      "[0.01 0.01]\n",
      "[0.030142421048386752, 0.030142421048386752]\n",
      "[0.01 0.01]\n",
      "[0.01 0.01]\n"
     ]
    },
    {
     "data": {
      "text/plain": [
       "[[sphere(radius=0.04060133888786767, pos=array([0., 0., 0.])),\n",
       "  sphere(radius=0.01, pos=array([-0.04493701, -0.03568716,  0.03532911]))],\n",
       " [sphere(radius=0.01, pos=array([-0.05752528,  0.01141813,  0.42991041])),\n",
       "  sphere(radius=0.01, pos=array([ 0.03829784, -0.01906754,  0.24743888]))],\n",
       " [sphere(radius=0.01, pos=array([ 0.03227691, -0.02841419,  0.01995684])),\n",
       "  sphere(radius=0.01, pos=array([-0.03399463,  0.01438884,  0.32002566]))],\n",
       " [sphere(radius=0.030142421048386752, pos=array([0.        , 0.06028484, 0.        ])),\n",
       "  sphere(radius=0.030142421048386752, pos=array([0.        , 0.12056968, 0.        ]))],\n",
       " [sphere(radius=0.01, pos=array([-0.01649715, -0.05673093,  0.11009847])),\n",
       "  sphere(radius=0.01, pos=array([-0.03291042,  0.04309274,  0.11498684]))],\n",
       " [sphere(radius=0.01, pos=array([-0.02634374,  0.07675252,  0.0258777 ])),\n",
       "  sphere(radius=0.01, pos=array([ 0.03126039,  0.09690749, -0.00296661]))]]"
      ]
     },
     "execution_count": 1,
     "metadata": {},
     "output_type": "execute_result"
    }
   ],
   "source": [
    "from utils.ObstacleSpheres import *\n",
    "import numpy as np\n",
    "config_file = 'config/Config.yaml'\n",
    "obs = ObsConfig(config_file)\n",
    "print(obs.robot_config)\n",
    "\n",
    "obs.spheres_from_robot(q0= [0.0,0,0,0,0,0])  # Get initial robot obstacle spheres\n",
    "#print(obs.robot_sphere_list)\n"
   ]
  },
  {
   "cell_type": "code",
   "execution_count": 1,
   "metadata": {},
   "outputs": [
    {
     "ename": "NameError",
     "evalue": "name 'obs' is not defined",
     "output_type": "error",
     "traceback": [
      "\u001b[0;31m---------------------------------------------------------------------------\u001b[0m",
      "\u001b[0;31mNameError\u001b[0m                                 Traceback (most recent call last)",
      "Cell \u001b[0;32mIn[1], line 1\u001b[0m\n\u001b[0;32m----> 1\u001b[0m \u001b[43mobs\u001b[49m\u001b[38;5;241m.\u001b[39mspheres_from_env()\n\u001b[1;32m      2\u001b[0m \u001b[38;5;28mprint\u001b[39m(obs\u001b[38;5;241m.\u001b[39menv_sphere_list)\n\u001b[1;32m      4\u001b[0m robot_spheres \u001b[38;5;241m=\u001b[39m obs\u001b[38;5;241m.\u001b[39mupdate_robot_spheres(cq, cmodel, cdata)\n",
      "\u001b[0;31mNameError\u001b[0m: name 'obs' is not defined"
     ]
    }
   ],
   "source": [
    "\n",
    "obs.spheres_from_env()\n",
    "print(obs.env_sphere_list)\n",
    "\n",
    "robot_spheres = obs.update_robot_spheres(cq, cmodel, cdata)\n",
    "print(robot_spheres)"
   ]
  },
  {
   "cell_type": "markdown",
   "metadata": {},
   "source": []
  },
  {
   "cell_type": "code",
   "execution_count": null,
   "metadata": {},
   "outputs": [],
   "source": [
    "res = get_obstacle_distances(obs.env_sphere_list, robot_spheres)\n",
    "\n",
    "print(res[1])"
   ]
  },
  {
   "cell_type": "code",
   "execution_count": null,
   "metadata": {},
   "outputs": [],
   "source": []
  }
 ],
 "metadata": {
  "kernelspec": {
   "display_name": "jnrh-2023",
   "language": "python",
   "name": "python3"
  },
  "language_info": {
   "codemirror_mode": {
    "name": "ipython",
    "version": 3
   },
   "file_extension": ".py",
   "mimetype": "text/x-python",
   "name": "python",
   "nbconvert_exporter": "python",
   "pygments_lexer": "ipython3",
   "version": "3.9.19"
  }
 },
 "nbformat": 4,
 "nbformat_minor": 2
}
