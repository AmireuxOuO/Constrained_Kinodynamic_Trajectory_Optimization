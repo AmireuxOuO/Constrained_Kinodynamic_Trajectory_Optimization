{
 "cells": [
  {
   "cell_type": "code",
   "execution_count": 5,
   "metadata": {},
   "outputs": [
    {
     "name": "stdout",
     "output_type": "stream",
     "text": [
      "Nb joints = 7 (nq=6,nv=6)\n",
      "  Joint 0 universe: parent=0\n",
      "  Joint 1 shoulder_pan_joint: parent=0\n",
      "  Joint 2 shoulder_lift_joint: parent=1\n",
      "  Joint 3 elbow_joint: parent=2\n",
      "  Joint 4 wrist_1_joint: parent=3\n",
      "  Joint 5 wrist_2_joint: parent=4\n",
      "  Joint 6 wrist_3_joint: parent=5\n",
      "\n"
     ]
    }
   ],
   "source": [
    "from utils.PinConfig import PinConfig\n",
    "import casadi\n",
    "import pinocchio as pin\n",
    "\n",
    "config_file = 'config/SimpleConfig.yaml'\n",
    "robot, model, data, cmodel, cdata = PinConfig(config_file)\n",
    "print(model)"
   ]
  },
  {
   "cell_type": "code",
   "execution_count": null,
   "metadata": {},
   "outputs": [],
   "source": [
    "obs = ObsConfig(config_file)\n",
    "obs.spheres_from_robot(q_waypoints[0])  # Get initial robot obstacle spheres\n",
    "\n",
    "cq = casadi.SX.sym('cq', cmodel.nq)\n",
    "dis = casadi.function(\n",
    "    'dis',\n",
    "    [cq],\n",
    "    [get_obstacle_distances(obs.update_env_spheres(), obs.update_robot_spheres(cq, cmodel, cdata))]\n",
    ")"
   ]
  }
 ],
 "metadata": {
  "kernelspec": {
   "display_name": "jnrh-2023",
   "language": "python",
   "name": "python3"
  },
  "language_info": {
   "codemirror_mode": {
    "name": "ipython",
    "version": 3
   },
   "file_extension": ".py",
   "mimetype": "text/x-python",
   "name": "python",
   "nbconvert_exporter": "python",
   "pygments_lexer": "ipython3",
   "version": "3.9.19"
  }
 },
 "nbformat": 4,
 "nbformat_minor": 2
}
