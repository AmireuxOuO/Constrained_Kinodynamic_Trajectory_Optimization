{
 "cells": [
  {
   "cell_type": "code",
   "execution_count": 1,
   "metadata": {},
   "outputs": [
    {
     "name": "stdout",
     "output_type": "stream",
     "text": [
      "[0. 0. 0. 0. 0. 0.]\n"
     ]
    }
   ],
   "source": [
    "from utils.PinConfig import PinConfig\n",
    "import casadi\n",
    "import pinocchio as pin\n",
    "\n",
    "config_file = 'config/SimpleConfig.yaml'\n",
    "robot, model, data, cmodel, cdata = PinConfig(config_file)\n",
    "print(robot.q0)\n",
    "\n",
    "cq = casadi.SX.sym('q', model.nq)"
   ]
  },
  {
   "cell_type": "code",
   "execution_count": 2,
   "metadata": {},
   "outputs": [
    {
     "name": "stdout",
     "output_type": "stream",
     "text": [
      "{'pinocchio_config': {'urdf_path': '/home/angie/Projects/curobo/src/curobo/content/assets/robot/ur_description/ur5e.urdf', 'robex': None}, 'curobo_config': {'robot_cfg': {'kinematics': {'usd_path': 'robot/ur_description/ur5e.usd', 'usd_robot_root': '/robot', 'isaac_usd_path': '', 'usd_flip_joints': {}, 'usd_flip_joint_limits': [], 'urdf_path': 'robot/ur_description/ur5e.urdf', 'asset_root_path': 'robot/ur_description', 'base_link': 'base_link', 'ee_link': 'tool0', 'link_names': ['shoulder_link', 'upper_arm_link', 'forearm_link', 'wrist_1_link', 'wrist_2_link', 'wrist_3_link'], 'lock_joints': None, 'extra_links': None, 'collision_link_names': None, 'collision_spheres': None, 'collision_sphere_buffer': 0.005, 'extra_collision_spheres': {}, 'self_collision_ignore': None, 'self_collision_buffer': None, 'use_global_cumul': True, 'mesh_link_names': ['shoulder_link', 'upper_arm_link', 'forearm_link', 'wrist_1_link', 'wrist_2_link', 'wrist_3_link'], 'cspace': {'joint_names': ['shoulder_pan_joint', 'shoulder_lift_joint', 'elbow_joint', 'wrist_1_joint', 'wrist_2_joint', 'wrist_3_joint'], 'retract_config': [-1.57, -2.2, 1.9, -1.383, -1.57, 0.0], 'null_space_weight': [1.0, 1.0, 1.0, 1.0, 1.0, 1.0], 'cspace_distance_weight': [1.0, 1.0, 1.0, 1.0, 1.0, 1.0], 'max_jerk': 500.0, 'max_acceleration': 15.0}}}}}\n",
      "[0.04060134 0.01      ]\n",
      "[0.01 0.01]\n",
      "[0.01 0.01]\n",
      "[0.030142421048386752, 0.030142421048386752]\n",
      "[0.01 0.01]\n",
      "[0.01 0.01]\n",
      "[sphere(radius=0.2, pos=array([0.5, 0.5, 0.5])), sphere(radius=0.05, pos=array([ 0.2,  0. , -0.1]))]\n"
     ]
    }
   ],
   "source": [
    "from utils.ObstacleSpheres import *\n",
    "import numpy as np\n",
    "config_file = 'config/Config.yaml'\n",
    "obs = ObsConfig(config_file)\n",
    "print(obs.robot_config)\n",
    "\n",
    "obs.spheres_from_robot(q0= [0.0,0,0,0,0,0])  # Get initial robot obstacle spheres\n",
    "obs.spheres_from_env()\n",
    "print(obs.env_sphere_list)\n",
    "\n",
    "\n"
   ]
  },
  {
   "cell_type": "code",
   "execution_count": 3,
   "metadata": {},
   "outputs": [],
   "source": [
    "get_obstacle_distances = casadi.Function(\n",
    "    'get_obstacle_distances', \n",
    "    [cq], \n",
    "    [casadi.vertcat(*obstacle_distances(obs.env_sphere_list, obs.robot_sphere_list, cmodel, cdata, cq))]\n",
    "    )"
   ]
  },
  {
   "cell_type": "code",
   "execution_count": 4,
   "metadata": {},
   "outputs": [
    {
     "name": "stdout",
     "output_type": "stream",
     "text": [
      "[6.28318531 6.28318531 3.14159265 6.28318531 6.28318531 6.28318531]\n",
      "[-6.28318531 -6.28318531 -3.14159265 -6.28318531 -6.28318531 -6.28318531]\n",
      "[-2.25158203e-15 -8.52573478e+01 -2.38834632e+01  1.62120800e-01\n",
      "  0.00000000e+00  0.00000000e+00]\n",
      "[-4.75225193e-16 -5.23511289e+01  9.02275572e+00  2.21461131e-01\n",
      "  0.00000000e+00  0.00000000e+00]\n"
     ]
    }
   ],
   "source": [
    "nq = model.nq   # Number of joints\n",
    "nv = model.nv   # Number of DOF\n",
    "nx = nq + nv    # Number of states\n",
    "cx = casadi.SX.sym(\"x\", nx, 1)\n",
    "ctau = casadi.SX.sym(\"tau\", nv, 1)\n",
    "cacc = cpin.aba(cmodel, cdata, cx[:nq], cx[nq:], ctau) # Forward dynamics\n",
    "\n",
    "cq = casadi.SX.sym(\"x\", model.nq, 1)\n",
    "\n",
    "\n",
    "# Joint limits\n",
    "lowerVelocityLimit = np.pi/2 * np.array([-1, -1, -1, -1, -1, -1])  # rad/s\n",
    "upperVelocityLimit = np.pi/2 * np.array([1, 1, 1, 1, 1, 1])\n",
    "lowerTorqueLimit = 100 * np.array([-1, -1, -1, -1, -1, -1]) \n",
    "upperTorqueLimit = 100 * np.array([1, 1, 1, 1, 1, 1])\n",
    "print(model.upperPositionLimit)\n",
    "print(model.lowerPositionLimit)\n",
    "\n",
    "waypoints = np.array([[0, np.pi/4, 0, 0, 0, 0], \n",
    "                      [-np.pi/6, np.pi/3, np.pi/6, -np.pi/6, -np.pi/3, -np.pi/4],\n",
    "                      [-np.pi/4, np.pi/4, np.pi/3, 0, -np.pi/6, -np.pi/2]])\n",
    "q0 = waypoints[0]\n",
    "robot.q0 = q0\n",
    "qT = waypoints[-1]\n",
    "tau0 = pin.rnea(model, data, q0, np.zeros(nv), np.zeros(nv))\n",
    "tauT = pin.rnea(model, data, qT, np.zeros(nv), np.zeros(nv))\n",
    "print(tau0)\n",
    "print(tauT)"
   ]
  },
  {
   "cell_type": "code",
   "execution_count": 5,
   "metadata": {},
   "outputs": [],
   "source": [
    "from utils.Lagrange import *\n",
    "from utils.LGL_collocation import LGL_collocation\n",
    "from utils.LocalChart import *\n",
    "\n",
    "Ntp = 10\n",
    "Np = waypoints.shape[0]-1  # Number of phase (dersired waypoints: N+1)\n",
    "T = Np*Ntp  # Number of total collocation points / optimization variables\n",
    "\n",
    "LGL_Pts, LGL_Wts = Normalize_LGL_Pts_Wts(Ntp)\n",
    "DL,_ = differentiation_matrix(Ntp, LGL_Pts)\n",
    "\n",
    "LGL = LGL_collocation(Ntp, nq, nv)\n",
    "StatesDiff, StateDiff, LocalsDiff, LocalDiff= LGL.getDiffFuncs()\n",
    "\n",
    "Feq = casadi.Function(\n",
    "    \"Dyn\",\n",
    "    [cx, ctau],\n",
    "    [casadi.vertcat(cx[nq:], cacc)],\n",
    ")"
   ]
  },
  {
   "cell_type": "code",
   "execution_count": 6,
   "metadata": {},
   "outputs": [],
   "source": [
    "opti = casadi.Opti()\n",
    "# Optimization variables\n",
    "var_xs = [opti.variable(nx) for _ in range(T)]\n",
    "var_us = [opti.variable(nv) for _ in range(T)]\n",
    "var_deltaT = [opti.variable(1) for _ in range(Np)]\n",
    "\n",
    "# Constraints\n",
    "for i in range(Np):\n",
    "    opti.subject_to(var_deltaT[i] >= 0.0)\n",
    "\n",
    "    for tp in range(Ntp):\n",
    "        t = i*Ntp + tp\n",
    "        # dynamics\n",
    "        opti.subject_to(StatesDiff(casadi.vertcat(*var_xs[i*Ntp: (i+1)*Ntp]), var_deltaT[i], DL[tp,:]) \n",
    "                        == Feq(var_xs[t], var_us[t]))\n",
    "        \n",
    "        # joint constraints\n",
    "        opti.subject_to(var_xs[t][:nq] <= model.upperPositionLimit)\n",
    "        opti.subject_to(var_xs[t][:nq] >= model.lowerPositionLimit)\n",
    "        # joint velocity constraints\n",
    "        opti.subject_to(var_xs[t][nq:] <= upperVelocityLimit)\n",
    "        opti.subject_to(var_xs[t][nq:] >= lowerVelocityLimit)\n",
    "        # torque constraints\n",
    "        opti.subject_to(var_us[t] <= upperTorqueLimit)\n",
    "        opti.subject_to(var_us[t] >= lowerTorqueLimit)\n",
    "\n",
    "        # collision avoidance\n",
    "        opti.subject_to(get_obstacle_distances(var_xs[t][:nq]) >= 0.05)\n",
    "\n",
    "# waypoints constraints (N-1 middle waypoints)\n",
    "for i in range(1, Np):\n",
    "    opti.subject_to(var_xs[i*Ntp][:nq] == waypoints[i])\n",
    "\n",
    "# continuity\n",
    "for i in range(1, Np):\n",
    "    opti.subject_to(var_xs[i*Ntp-1] == var_xs[i*Ntp])\n",
    "    opti.subject_to(var_us[i*Ntp-1] == var_us[i*Ntp])\n",
    "\n",
    "# continuity of derivatives\n",
    "for i in range(Np-1):\n",
    "    opti.subject_to(StatesDiff(casadi.vertcat(*var_xs[i*Ntp: (i+1)*Ntp]), var_deltaT[i], DL[Ntp-1,:]) \n",
    "                    == StatesDiff(casadi.vertcat(*var_xs[(i+1)*Ntp: (i+2)*Ntp]), var_deltaT[i+1], DL[0,:]))\n",
    "    \n",
    "    opti.subject_to(LocalDiff(casadi.vertcat(*var_us[i*Ntp: (i+1)*Ntp]), var_deltaT[i], DL[Ntp-1,:])\n",
    "                   == LocalDiff(casadi.vertcat(*var_us[(i+1)*Ntp: (i+2)*Ntp]), var_deltaT[i], DL[0,:]))\n",
    "\n",
    "\n",
    "# boundary conditions\n",
    "opti.subject_to(var_xs[0][:nq] == q0)\n",
    "opti.subject_to(var_xs[-1][:nq] == qT)\n",
    "opti.subject_to(var_xs[0][nq:] == 0)\n",
    "opti.subject_to(var_xs[-1][nq:] == 0)\n",
    "#opti.subject_to(var_us[0] == tau0)\n",
    "#opti.subject_to(var_us[-1] == tauT)\n",
    "\n",
    "# Objective\n",
    "totalcost = 0\n",
    "\n",
    "R = np.eye(nv)\n",
    "for i in range(Np):\n",
    "    for tp in range(Ntp):\n",
    "        var_xs_Phase = var_xs[i*Ntp: (i+1)*Ntp]\n",
    "        dq = [dq_Phase[nq:] for dq_Phase in var_xs_Phase]\n",
    "        ddq = StateDiff(casadi.vertcat(*dq), var_deltaT[i], DL[tp,:])\n",
    "        totalcost += var_deltaT[i]/2 * LGL_Wts[tp] * casadi.mtimes([ddq.T, R, ddq])\n",
    "        \n",
    "    totalcost += var_deltaT[i]\n",
    "\n",
    "opti.minimize(totalcost)\n",
    "opti.solver(\"ipopt\") \n",
    "\n",
    "for x in var_xs:\n",
    "    opti.set_initial(x, np.concatenate([robot.q0, np.zeros(nv)]))\n",
    "for u in var_us:\n",
    "    opti.set_initial(u, tau0)\n",
    "for t in var_deltaT:\n",
    "    opti.set_initial(t, 1)\n",
    "\n",
    "\n"
   ]
  },
  {
   "cell_type": "code",
   "execution_count": null,
   "metadata": {},
   "outputs": [],
   "source": [
    "try:\n",
    "    sol = opti.solve_limited()\n",
    "    sol_xs = [opti.value(var_x) for var_x in var_xs]\n",
    "    sol_us = [opti.value(var_u) for var_u in var_us]\n",
    "    sol_T = [opti.value(var_t) for var_t in var_deltaT]\n",
    "except:\n",
    "    print(\"ERROR in convergence, plotting debug info.\")\n",
    "    sol_xs = [opti.debug.value(var_x) for var_x in var_xs]\n",
    "    sol_us = [opti.debug.value(var_u) for var_u in var_us]\n"
   ]
  }
 ],
 "metadata": {
  "kernelspec": {
   "display_name": "jnrh-2023",
   "language": "python",
   "name": "python3"
  },
  "language_info": {
   "codemirror_mode": {
    "name": "ipython",
    "version": 3
   },
   "file_extension": ".py",
   "mimetype": "text/x-python",
   "name": "python",
   "nbconvert_exporter": "python",
   "pygments_lexer": "ipython3",
   "version": "3.9.19"
  }
 },
 "nbformat": 4,
 "nbformat_minor": 2
}
